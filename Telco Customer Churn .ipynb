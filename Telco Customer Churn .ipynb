{
 "cells": [
  {
   "cell_type": "markdown",
   "id": "905137b9",
   "metadata": {
    "papermill": {
     "duration": 0.018468,
     "end_time": "2023-08-31T14:57:08.499363",
     "exception": false,
     "start_time": "2023-08-31T14:57:08.480895",
     "status": "completed"
    },
    "tags": []
   },
   "source": [
    "# libraries #"
   ]
  },
  {
   "cell_type": "code",
   "execution_count": 1,
   "id": "69438917",
   "metadata": {
    "execution": {
     "iopub.execute_input": "2023-08-31T14:57:08.540076Z",
     "iopub.status.busy": "2023-08-31T14:57:08.538989Z",
     "iopub.status.idle": "2023-08-31T14:57:12.357993Z",
     "shell.execute_reply": "2023-08-31T14:57:12.356423Z"
    },
    "papermill": {
     "duration": 3.844519,
     "end_time": "2023-08-31T14:57:12.361643",
     "exception": false,
     "start_time": "2023-08-31T14:57:08.517124",
     "status": "completed"
    },
    "tags": []
   },
   "outputs": [],
   "source": [
    "import pandas as pd\n",
    "import numpy as np\n",
    "import os\n",
    "import seaborn as sns\n",
    "import matplotlib.pyplot as plt\n",
    "%matplotlib inline\n",
    "plt.style.use(['ggplot'])\n",
    "from sklearn.model_selection import train_test_split\n",
    "from sklearn.preprocessing import StandardScaler\n",
    "from sklearn.metrics import classification_report, confusion_matrix, accuracy_score\n",
    "from sklearn.linear_model import LogisticRegression\n",
    "from sklearn.tree import DecisionTreeClassifier\n",
    "from lightgbm import LGBMClassifier\n",
    "from sklearn.exceptions import ConvergenceWarning\n",
    "from sklearn import tree"
   ]
  },
  {
   "cell_type": "markdown",
   "id": "09db7c0c",
   "metadata": {
    "papermill": {
     "duration": 0.016536,
     "end_time": "2023-08-31T14:57:12.398163",
     "exception": false,
     "start_time": "2023-08-31T14:57:12.381627",
     "status": "completed"
    },
    "tags": []
   },
   "source": [
    "# Reading dataset #"
   ]
  },
  {
   "cell_type": "code",
   "execution_count": 2,
   "id": "0fc96a0a",
   "metadata": {
    "execution": {
     "iopub.execute_input": "2023-08-31T14:57:12.435198Z",
     "iopub.status.busy": "2023-08-31T14:57:12.434715Z",
     "iopub.status.idle": "2023-08-31T14:57:12.559686Z",
     "shell.execute_reply": "2023-08-31T14:57:12.558014Z"
    },
    "papermill": {
     "duration": 0.147473,
     "end_time": "2023-08-31T14:57:12.563086",
     "exception": false,
     "start_time": "2023-08-31T14:57:12.415613",
     "status": "completed"
    },
    "tags": []
   },
   "outputs": [
    {
     "data": {
      "text/html": [
       "<div>\n",
       "<style scoped>\n",
       "    .dataframe tbody tr th:only-of-type {\n",
       "        vertical-align: middle;\n",
       "    }\n",
       "\n",
       "    .dataframe tbody tr th {\n",
       "        vertical-align: top;\n",
       "    }\n",
       "\n",
       "    .dataframe thead th {\n",
       "        text-align: right;\n",
       "    }\n",
       "</style>\n",
       "<table border=\"1\" class=\"dataframe\">\n",
       "  <thead>\n",
       "    <tr style=\"text-align: right;\">\n",
       "      <th></th>\n",
       "      <th>customerID</th>\n",
       "      <th>gender</th>\n",
       "      <th>SeniorCitizen</th>\n",
       "      <th>Partner</th>\n",
       "      <th>Dependents</th>\n",
       "      <th>tenure</th>\n",
       "      <th>PhoneService</th>\n",
       "      <th>MultipleLines</th>\n",
       "      <th>InternetService</th>\n",
       "      <th>OnlineSecurity</th>\n",
       "      <th>...</th>\n",
       "      <th>DeviceProtection</th>\n",
       "      <th>TechSupport</th>\n",
       "      <th>StreamingTV</th>\n",
       "      <th>StreamingMovies</th>\n",
       "      <th>Contract</th>\n",
       "      <th>PaperlessBilling</th>\n",
       "      <th>PaymentMethod</th>\n",
       "      <th>MonthlyCharges</th>\n",
       "      <th>TotalCharges</th>\n",
       "      <th>Churn</th>\n",
       "    </tr>\n",
       "  </thead>\n",
       "  <tbody>\n",
       "    <tr>\n",
       "      <th>0</th>\n",
       "      <td>7590-VHVEG</td>\n",
       "      <td>Female</td>\n",
       "      <td>0</td>\n",
       "      <td>Yes</td>\n",
       "      <td>No</td>\n",
       "      <td>1</td>\n",
       "      <td>No</td>\n",
       "      <td>No phone service</td>\n",
       "      <td>DSL</td>\n",
       "      <td>No</td>\n",
       "      <td>...</td>\n",
       "      <td>No</td>\n",
       "      <td>No</td>\n",
       "      <td>No</td>\n",
       "      <td>No</td>\n",
       "      <td>Month-to-month</td>\n",
       "      <td>Yes</td>\n",
       "      <td>Electronic check</td>\n",
       "      <td>29.85</td>\n",
       "      <td>29.85</td>\n",
       "      <td>No</td>\n",
       "    </tr>\n",
       "    <tr>\n",
       "      <th>1</th>\n",
       "      <td>5575-GNVDE</td>\n",
       "      <td>Male</td>\n",
       "      <td>0</td>\n",
       "      <td>No</td>\n",
       "      <td>No</td>\n",
       "      <td>34</td>\n",
       "      <td>Yes</td>\n",
       "      <td>No</td>\n",
       "      <td>DSL</td>\n",
       "      <td>Yes</td>\n",
       "      <td>...</td>\n",
       "      <td>Yes</td>\n",
       "      <td>No</td>\n",
       "      <td>No</td>\n",
       "      <td>No</td>\n",
       "      <td>One year</td>\n",
       "      <td>No</td>\n",
       "      <td>Mailed check</td>\n",
       "      <td>56.95</td>\n",
       "      <td>1889.5</td>\n",
       "      <td>No</td>\n",
       "    </tr>\n",
       "    <tr>\n",
       "      <th>2</th>\n",
       "      <td>3668-QPYBK</td>\n",
       "      <td>Male</td>\n",
       "      <td>0</td>\n",
       "      <td>No</td>\n",
       "      <td>No</td>\n",
       "      <td>2</td>\n",
       "      <td>Yes</td>\n",
       "      <td>No</td>\n",
       "      <td>DSL</td>\n",
       "      <td>Yes</td>\n",
       "      <td>...</td>\n",
       "      <td>No</td>\n",
       "      <td>No</td>\n",
       "      <td>No</td>\n",
       "      <td>No</td>\n",
       "      <td>Month-to-month</td>\n",
       "      <td>Yes</td>\n",
       "      <td>Mailed check</td>\n",
       "      <td>53.85</td>\n",
       "      <td>108.15</td>\n",
       "      <td>Yes</td>\n",
       "    </tr>\n",
       "    <tr>\n",
       "      <th>3</th>\n",
       "      <td>7795-CFOCW</td>\n",
       "      <td>Male</td>\n",
       "      <td>0</td>\n",
       "      <td>No</td>\n",
       "      <td>No</td>\n",
       "      <td>45</td>\n",
       "      <td>No</td>\n",
       "      <td>No phone service</td>\n",
       "      <td>DSL</td>\n",
       "      <td>Yes</td>\n",
       "      <td>...</td>\n",
       "      <td>Yes</td>\n",
       "      <td>Yes</td>\n",
       "      <td>No</td>\n",
       "      <td>No</td>\n",
       "      <td>One year</td>\n",
       "      <td>No</td>\n",
       "      <td>Bank transfer (automatic)</td>\n",
       "      <td>42.30</td>\n",
       "      <td>1840.75</td>\n",
       "      <td>No</td>\n",
       "    </tr>\n",
       "    <tr>\n",
       "      <th>4</th>\n",
       "      <td>9237-HQITU</td>\n",
       "      <td>Female</td>\n",
       "      <td>0</td>\n",
       "      <td>No</td>\n",
       "      <td>No</td>\n",
       "      <td>2</td>\n",
       "      <td>Yes</td>\n",
       "      <td>No</td>\n",
       "      <td>Fiber optic</td>\n",
       "      <td>No</td>\n",
       "      <td>...</td>\n",
       "      <td>No</td>\n",
       "      <td>No</td>\n",
       "      <td>No</td>\n",
       "      <td>No</td>\n",
       "      <td>Month-to-month</td>\n",
       "      <td>Yes</td>\n",
       "      <td>Electronic check</td>\n",
       "      <td>70.70</td>\n",
       "      <td>151.65</td>\n",
       "      <td>Yes</td>\n",
       "    </tr>\n",
       "  </tbody>\n",
       "</table>\n",
       "<p>5 rows × 21 columns</p>\n",
       "</div>"
      ],
      "text/plain": [
       "   customerID  gender  SeniorCitizen Partner Dependents  tenure PhoneService  \\\n",
       "0  7590-VHVEG  Female              0     Yes         No       1           No   \n",
       "1  5575-GNVDE    Male              0      No         No      34          Yes   \n",
       "2  3668-QPYBK    Male              0      No         No       2          Yes   \n",
       "3  7795-CFOCW    Male              0      No         No      45           No   \n",
       "4  9237-HQITU  Female              0      No         No       2          Yes   \n",
       "\n",
       "      MultipleLines InternetService OnlineSecurity  ... DeviceProtection  \\\n",
       "0  No phone service             DSL             No  ...               No   \n",
       "1                No             DSL            Yes  ...              Yes   \n",
       "2                No             DSL            Yes  ...               No   \n",
       "3  No phone service             DSL            Yes  ...              Yes   \n",
       "4                No     Fiber optic             No  ...               No   \n",
       "\n",
       "  TechSupport StreamingTV StreamingMovies        Contract PaperlessBilling  \\\n",
       "0          No          No              No  Month-to-month              Yes   \n",
       "1          No          No              No        One year               No   \n",
       "2          No          No              No  Month-to-month              Yes   \n",
       "3         Yes          No              No        One year               No   \n",
       "4          No          No              No  Month-to-month              Yes   \n",
       "\n",
       "               PaymentMethod MonthlyCharges  TotalCharges Churn  \n",
       "0           Electronic check          29.85         29.85    No  \n",
       "1               Mailed check          56.95        1889.5    No  \n",
       "2               Mailed check          53.85        108.15   Yes  \n",
       "3  Bank transfer (automatic)          42.30       1840.75    No  \n",
       "4           Electronic check          70.70        151.65   Yes  \n",
       "\n",
       "[5 rows x 21 columns]"
      ]
     },
     "execution_count": 2,
     "metadata": {},
     "output_type": "execute_result"
    }
   ],
   "source": [
    "\n",
    "df=pd.read_csv('Telco Customer Churn.csv')\n",
    "df.head()"
   ]
  },
  {
   "cell_type": "code",
   "execution_count": 3,
   "id": "6efd33d8",
   "metadata": {
    "execution": {
     "iopub.execute_input": "2023-08-31T14:57:12.601416Z",
     "iopub.status.busy": "2023-08-31T14:57:12.600563Z",
     "iopub.status.idle": "2023-08-31T14:57:12.627502Z",
     "shell.execute_reply": "2023-08-31T14:57:12.626126Z"
    },
    "papermill": {
     "duration": 0.048718,
     "end_time": "2023-08-31T14:57:12.630269",
     "exception": false,
     "start_time": "2023-08-31T14:57:12.581551",
     "status": "completed"
    },
    "tags": []
   },
   "outputs": [
    {
     "data": {
      "text/html": [
       "<div>\n",
       "<style scoped>\n",
       "    .dataframe tbody tr th:only-of-type {\n",
       "        vertical-align: middle;\n",
       "    }\n",
       "\n",
       "    .dataframe tbody tr th {\n",
       "        vertical-align: top;\n",
       "    }\n",
       "\n",
       "    .dataframe thead th {\n",
       "        text-align: right;\n",
       "    }\n",
       "</style>\n",
       "<table border=\"1\" class=\"dataframe\">\n",
       "  <thead>\n",
       "    <tr style=\"text-align: right;\">\n",
       "      <th></th>\n",
       "      <th>customerID</th>\n",
       "      <th>gender</th>\n",
       "      <th>SeniorCitizen</th>\n",
       "      <th>Partner</th>\n",
       "      <th>Dependents</th>\n",
       "      <th>tenure</th>\n",
       "      <th>PhoneService</th>\n",
       "      <th>MultipleLines</th>\n",
       "      <th>InternetService</th>\n",
       "      <th>OnlineSecurity</th>\n",
       "      <th>...</th>\n",
       "      <th>DeviceProtection</th>\n",
       "      <th>TechSupport</th>\n",
       "      <th>StreamingTV</th>\n",
       "      <th>StreamingMovies</th>\n",
       "      <th>Contract</th>\n",
       "      <th>PaperlessBilling</th>\n",
       "      <th>PaymentMethod</th>\n",
       "      <th>MonthlyCharges</th>\n",
       "      <th>TotalCharges</th>\n",
       "      <th>Churn</th>\n",
       "    </tr>\n",
       "  </thead>\n",
       "  <tbody>\n",
       "    <tr>\n",
       "      <th>7038</th>\n",
       "      <td>6840-RESVB</td>\n",
       "      <td>Male</td>\n",
       "      <td>0</td>\n",
       "      <td>Yes</td>\n",
       "      <td>Yes</td>\n",
       "      <td>24</td>\n",
       "      <td>Yes</td>\n",
       "      <td>Yes</td>\n",
       "      <td>DSL</td>\n",
       "      <td>Yes</td>\n",
       "      <td>...</td>\n",
       "      <td>Yes</td>\n",
       "      <td>Yes</td>\n",
       "      <td>Yes</td>\n",
       "      <td>Yes</td>\n",
       "      <td>One year</td>\n",
       "      <td>Yes</td>\n",
       "      <td>Mailed check</td>\n",
       "      <td>84.80</td>\n",
       "      <td>1990.5</td>\n",
       "      <td>No</td>\n",
       "    </tr>\n",
       "    <tr>\n",
       "      <th>7039</th>\n",
       "      <td>2234-XADUH</td>\n",
       "      <td>Female</td>\n",
       "      <td>0</td>\n",
       "      <td>Yes</td>\n",
       "      <td>Yes</td>\n",
       "      <td>72</td>\n",
       "      <td>Yes</td>\n",
       "      <td>Yes</td>\n",
       "      <td>Fiber optic</td>\n",
       "      <td>No</td>\n",
       "      <td>...</td>\n",
       "      <td>Yes</td>\n",
       "      <td>No</td>\n",
       "      <td>Yes</td>\n",
       "      <td>Yes</td>\n",
       "      <td>One year</td>\n",
       "      <td>Yes</td>\n",
       "      <td>Credit card (automatic)</td>\n",
       "      <td>103.20</td>\n",
       "      <td>7362.9</td>\n",
       "      <td>No</td>\n",
       "    </tr>\n",
       "    <tr>\n",
       "      <th>7040</th>\n",
       "      <td>4801-JZAZL</td>\n",
       "      <td>Female</td>\n",
       "      <td>0</td>\n",
       "      <td>Yes</td>\n",
       "      <td>Yes</td>\n",
       "      <td>11</td>\n",
       "      <td>No</td>\n",
       "      <td>No phone service</td>\n",
       "      <td>DSL</td>\n",
       "      <td>Yes</td>\n",
       "      <td>...</td>\n",
       "      <td>No</td>\n",
       "      <td>No</td>\n",
       "      <td>No</td>\n",
       "      <td>No</td>\n",
       "      <td>Month-to-month</td>\n",
       "      <td>Yes</td>\n",
       "      <td>Electronic check</td>\n",
       "      <td>29.60</td>\n",
       "      <td>346.45</td>\n",
       "      <td>No</td>\n",
       "    </tr>\n",
       "    <tr>\n",
       "      <th>7041</th>\n",
       "      <td>8361-LTMKD</td>\n",
       "      <td>Male</td>\n",
       "      <td>1</td>\n",
       "      <td>Yes</td>\n",
       "      <td>No</td>\n",
       "      <td>4</td>\n",
       "      <td>Yes</td>\n",
       "      <td>Yes</td>\n",
       "      <td>Fiber optic</td>\n",
       "      <td>No</td>\n",
       "      <td>...</td>\n",
       "      <td>No</td>\n",
       "      <td>No</td>\n",
       "      <td>No</td>\n",
       "      <td>No</td>\n",
       "      <td>Month-to-month</td>\n",
       "      <td>Yes</td>\n",
       "      <td>Mailed check</td>\n",
       "      <td>74.40</td>\n",
       "      <td>306.6</td>\n",
       "      <td>Yes</td>\n",
       "    </tr>\n",
       "    <tr>\n",
       "      <th>7042</th>\n",
       "      <td>3186-AJIEK</td>\n",
       "      <td>Male</td>\n",
       "      <td>0</td>\n",
       "      <td>No</td>\n",
       "      <td>No</td>\n",
       "      <td>66</td>\n",
       "      <td>Yes</td>\n",
       "      <td>No</td>\n",
       "      <td>Fiber optic</td>\n",
       "      <td>Yes</td>\n",
       "      <td>...</td>\n",
       "      <td>Yes</td>\n",
       "      <td>Yes</td>\n",
       "      <td>Yes</td>\n",
       "      <td>Yes</td>\n",
       "      <td>Two year</td>\n",
       "      <td>Yes</td>\n",
       "      <td>Bank transfer (automatic)</td>\n",
       "      <td>105.65</td>\n",
       "      <td>6844.5</td>\n",
       "      <td>No</td>\n",
       "    </tr>\n",
       "  </tbody>\n",
       "</table>\n",
       "<p>5 rows × 21 columns</p>\n",
       "</div>"
      ],
      "text/plain": [
       "      customerID  gender  SeniorCitizen Partner Dependents  tenure  \\\n",
       "7038  6840-RESVB    Male              0     Yes        Yes      24   \n",
       "7039  2234-XADUH  Female              0     Yes        Yes      72   \n",
       "7040  4801-JZAZL  Female              0     Yes        Yes      11   \n",
       "7041  8361-LTMKD    Male              1     Yes         No       4   \n",
       "7042  3186-AJIEK    Male              0      No         No      66   \n",
       "\n",
       "     PhoneService     MultipleLines InternetService OnlineSecurity  ...  \\\n",
       "7038          Yes               Yes             DSL            Yes  ...   \n",
       "7039          Yes               Yes     Fiber optic             No  ...   \n",
       "7040           No  No phone service             DSL            Yes  ...   \n",
       "7041          Yes               Yes     Fiber optic             No  ...   \n",
       "7042          Yes                No     Fiber optic            Yes  ...   \n",
       "\n",
       "     DeviceProtection TechSupport StreamingTV StreamingMovies        Contract  \\\n",
       "7038              Yes         Yes         Yes             Yes        One year   \n",
       "7039              Yes          No         Yes             Yes        One year   \n",
       "7040               No          No          No              No  Month-to-month   \n",
       "7041               No          No          No              No  Month-to-month   \n",
       "7042              Yes         Yes         Yes             Yes        Two year   \n",
       "\n",
       "     PaperlessBilling              PaymentMethod MonthlyCharges  TotalCharges  \\\n",
       "7038              Yes               Mailed check          84.80        1990.5   \n",
       "7039              Yes    Credit card (automatic)         103.20        7362.9   \n",
       "7040              Yes           Electronic check          29.60        346.45   \n",
       "7041              Yes               Mailed check          74.40         306.6   \n",
       "7042              Yes  Bank transfer (automatic)         105.65        6844.5   \n",
       "\n",
       "     Churn  \n",
       "7038    No  \n",
       "7039    No  \n",
       "7040    No  \n",
       "7041   Yes  \n",
       "7042    No  \n",
       "\n",
       "[5 rows x 21 columns]"
      ]
     },
     "execution_count": 3,
     "metadata": {},
     "output_type": "execute_result"
    }
   ],
   "source": [
    "# the last rows\n",
    "df.tail()"
   ]
  },
  {
   "cell_type": "code",
   "execution_count": 4,
   "id": "03af2884",
   "metadata": {
    "execution": {
     "iopub.execute_input": "2023-08-31T14:57:12.669780Z",
     "iopub.status.busy": "2023-08-31T14:57:12.669072Z",
     "iopub.status.idle": "2023-08-31T14:57:12.740084Z",
     "shell.execute_reply": "2023-08-31T14:57:12.738373Z"
    },
    "papermill": {
     "duration": 0.094471,
     "end_time": "2023-08-31T14:57:12.743074",
     "exception": false,
     "start_time": "2023-08-31T14:57:12.648603",
     "status": "completed"
    },
    "tags": []
   },
   "outputs": [
    {
     "name": "stdout",
     "output_type": "stream",
     "text": [
      "<class 'pandas.core.frame.DataFrame'>\n",
      "RangeIndex: 7043 entries, 0 to 7042\n",
      "Data columns (total 21 columns):\n",
      " #   Column            Non-Null Count  Dtype  \n",
      "---  ------            --------------  -----  \n",
      " 0   customerID        7043 non-null   object \n",
      " 1   gender            7043 non-null   object \n",
      " 2   SeniorCitizen     7043 non-null   int64  \n",
      " 3   Partner           7043 non-null   object \n",
      " 4   Dependents        7043 non-null   object \n",
      " 5   tenure            7043 non-null   int64  \n",
      " 6   PhoneService      7043 non-null   object \n",
      " 7   MultipleLines     7043 non-null   object \n",
      " 8   InternetService   7043 non-null   object \n",
      " 9   OnlineSecurity    7043 non-null   object \n",
      " 10  OnlineBackup      7043 non-null   object \n",
      " 11  DeviceProtection  7043 non-null   object \n",
      " 12  TechSupport       7043 non-null   object \n",
      " 13  StreamingTV       7043 non-null   object \n",
      " 14  StreamingMovies   7043 non-null   object \n",
      " 15  Contract          7043 non-null   object \n",
      " 16  PaperlessBilling  7043 non-null   object \n",
      " 17  PaymentMethod     7043 non-null   object \n",
      " 18  MonthlyCharges    7043 non-null   float64\n",
      " 19  TotalCharges      7043 non-null   object \n",
      " 20  Churn             7043 non-null   object \n",
      "dtypes: float64(1), int64(2), object(18)\n",
      "memory usage: 1.1+ MB\n"
     ]
    }
   ],
   "source": [
    "# The information about dataset\n",
    "df.info()"
   ]
  },
  {
   "cell_type": "code",
   "execution_count": 5,
   "id": "39aee0dd",
   "metadata": {
    "execution": {
     "iopub.execute_input": "2023-08-31T14:57:12.781707Z",
     "iopub.status.busy": "2023-08-31T14:57:12.781176Z",
     "iopub.status.idle": "2023-08-31T14:57:12.895664Z",
     "shell.execute_reply": "2023-08-31T14:57:12.894315Z"
    },
    "papermill": {
     "duration": 0.137058,
     "end_time": "2023-08-31T14:57:12.898374",
     "exception": false,
     "start_time": "2023-08-31T14:57:12.761316",
     "status": "completed"
    },
    "tags": []
   },
   "outputs": [
    {
     "data": {
      "text/html": [
       "<div>\n",
       "<style scoped>\n",
       "    .dataframe tbody tr th:only-of-type {\n",
       "        vertical-align: middle;\n",
       "    }\n",
       "\n",
       "    .dataframe tbody tr th {\n",
       "        vertical-align: top;\n",
       "    }\n",
       "\n",
       "    .dataframe thead th {\n",
       "        text-align: right;\n",
       "    }\n",
       "</style>\n",
       "<table border=\"1\" class=\"dataframe\">\n",
       "  <thead>\n",
       "    <tr style=\"text-align: right;\">\n",
       "      <th></th>\n",
       "      <th>count</th>\n",
       "      <th>unique</th>\n",
       "      <th>top</th>\n",
       "      <th>freq</th>\n",
       "      <th>mean</th>\n",
       "      <th>std</th>\n",
       "      <th>min</th>\n",
       "      <th>25%</th>\n",
       "      <th>50%</th>\n",
       "      <th>75%</th>\n",
       "      <th>max</th>\n",
       "    </tr>\n",
       "  </thead>\n",
       "  <tbody>\n",
       "    <tr>\n",
       "      <th>customerID</th>\n",
       "      <td>7043</td>\n",
       "      <td>7043</td>\n",
       "      <td>7590-VHVEG</td>\n",
       "      <td>1</td>\n",
       "      <td>NaN</td>\n",
       "      <td>NaN</td>\n",
       "      <td>NaN</td>\n",
       "      <td>NaN</td>\n",
       "      <td>NaN</td>\n",
       "      <td>NaN</td>\n",
       "      <td>NaN</td>\n",
       "    </tr>\n",
       "    <tr>\n",
       "      <th>gender</th>\n",
       "      <td>7043</td>\n",
       "      <td>2</td>\n",
       "      <td>Male</td>\n",
       "      <td>3555</td>\n",
       "      <td>NaN</td>\n",
       "      <td>NaN</td>\n",
       "      <td>NaN</td>\n",
       "      <td>NaN</td>\n",
       "      <td>NaN</td>\n",
       "      <td>NaN</td>\n",
       "      <td>NaN</td>\n",
       "    </tr>\n",
       "    <tr>\n",
       "      <th>SeniorCitizen</th>\n",
       "      <td>7043.0</td>\n",
       "      <td>NaN</td>\n",
       "      <td>NaN</td>\n",
       "      <td>NaN</td>\n",
       "      <td>0.162147</td>\n",
       "      <td>0.368612</td>\n",
       "      <td>0.0</td>\n",
       "      <td>0.0</td>\n",
       "      <td>0.0</td>\n",
       "      <td>0.0</td>\n",
       "      <td>1.0</td>\n",
       "    </tr>\n",
       "    <tr>\n",
       "      <th>Partner</th>\n",
       "      <td>7043</td>\n",
       "      <td>2</td>\n",
       "      <td>No</td>\n",
       "      <td>3641</td>\n",
       "      <td>NaN</td>\n",
       "      <td>NaN</td>\n",
       "      <td>NaN</td>\n",
       "      <td>NaN</td>\n",
       "      <td>NaN</td>\n",
       "      <td>NaN</td>\n",
       "      <td>NaN</td>\n",
       "    </tr>\n",
       "    <tr>\n",
       "      <th>Dependents</th>\n",
       "      <td>7043</td>\n",
       "      <td>2</td>\n",
       "      <td>No</td>\n",
       "      <td>4933</td>\n",
       "      <td>NaN</td>\n",
       "      <td>NaN</td>\n",
       "      <td>NaN</td>\n",
       "      <td>NaN</td>\n",
       "      <td>NaN</td>\n",
       "      <td>NaN</td>\n",
       "      <td>NaN</td>\n",
       "    </tr>\n",
       "    <tr>\n",
       "      <th>tenure</th>\n",
       "      <td>7043.0</td>\n",
       "      <td>NaN</td>\n",
       "      <td>NaN</td>\n",
       "      <td>NaN</td>\n",
       "      <td>32.371149</td>\n",
       "      <td>24.559481</td>\n",
       "      <td>0.0</td>\n",
       "      <td>9.0</td>\n",
       "      <td>29.0</td>\n",
       "      <td>55.0</td>\n",
       "      <td>72.0</td>\n",
       "    </tr>\n",
       "    <tr>\n",
       "      <th>PhoneService</th>\n",
       "      <td>7043</td>\n",
       "      <td>2</td>\n",
       "      <td>Yes</td>\n",
       "      <td>6361</td>\n",
       "      <td>NaN</td>\n",
       "      <td>NaN</td>\n",
       "      <td>NaN</td>\n",
       "      <td>NaN</td>\n",
       "      <td>NaN</td>\n",
       "      <td>NaN</td>\n",
       "      <td>NaN</td>\n",
       "    </tr>\n",
       "    <tr>\n",
       "      <th>MultipleLines</th>\n",
       "      <td>7043</td>\n",
       "      <td>3</td>\n",
       "      <td>No</td>\n",
       "      <td>3390</td>\n",
       "      <td>NaN</td>\n",
       "      <td>NaN</td>\n",
       "      <td>NaN</td>\n",
       "      <td>NaN</td>\n",
       "      <td>NaN</td>\n",
       "      <td>NaN</td>\n",
       "      <td>NaN</td>\n",
       "    </tr>\n",
       "    <tr>\n",
       "      <th>InternetService</th>\n",
       "      <td>7043</td>\n",
       "      <td>3</td>\n",
       "      <td>Fiber optic</td>\n",
       "      <td>3096</td>\n",
       "      <td>NaN</td>\n",
       "      <td>NaN</td>\n",
       "      <td>NaN</td>\n",
       "      <td>NaN</td>\n",
       "      <td>NaN</td>\n",
       "      <td>NaN</td>\n",
       "      <td>NaN</td>\n",
       "    </tr>\n",
       "    <tr>\n",
       "      <th>OnlineSecurity</th>\n",
       "      <td>7043</td>\n",
       "      <td>3</td>\n",
       "      <td>No</td>\n",
       "      <td>3498</td>\n",
       "      <td>NaN</td>\n",
       "      <td>NaN</td>\n",
       "      <td>NaN</td>\n",
       "      <td>NaN</td>\n",
       "      <td>NaN</td>\n",
       "      <td>NaN</td>\n",
       "      <td>NaN</td>\n",
       "    </tr>\n",
       "    <tr>\n",
       "      <th>OnlineBackup</th>\n",
       "      <td>7043</td>\n",
       "      <td>3</td>\n",
       "      <td>No</td>\n",
       "      <td>3088</td>\n",
       "      <td>NaN</td>\n",
       "      <td>NaN</td>\n",
       "      <td>NaN</td>\n",
       "      <td>NaN</td>\n",
       "      <td>NaN</td>\n",
       "      <td>NaN</td>\n",
       "      <td>NaN</td>\n",
       "    </tr>\n",
       "    <tr>\n",
       "      <th>DeviceProtection</th>\n",
       "      <td>7043</td>\n",
       "      <td>3</td>\n",
       "      <td>No</td>\n",
       "      <td>3095</td>\n",
       "      <td>NaN</td>\n",
       "      <td>NaN</td>\n",
       "      <td>NaN</td>\n",
       "      <td>NaN</td>\n",
       "      <td>NaN</td>\n",
       "      <td>NaN</td>\n",
       "      <td>NaN</td>\n",
       "    </tr>\n",
       "    <tr>\n",
       "      <th>TechSupport</th>\n",
       "      <td>7043</td>\n",
       "      <td>3</td>\n",
       "      <td>No</td>\n",
       "      <td>3473</td>\n",
       "      <td>NaN</td>\n",
       "      <td>NaN</td>\n",
       "      <td>NaN</td>\n",
       "      <td>NaN</td>\n",
       "      <td>NaN</td>\n",
       "      <td>NaN</td>\n",
       "      <td>NaN</td>\n",
       "    </tr>\n",
       "    <tr>\n",
       "      <th>StreamingTV</th>\n",
       "      <td>7043</td>\n",
       "      <td>3</td>\n",
       "      <td>No</td>\n",
       "      <td>2810</td>\n",
       "      <td>NaN</td>\n",
       "      <td>NaN</td>\n",
       "      <td>NaN</td>\n",
       "      <td>NaN</td>\n",
       "      <td>NaN</td>\n",
       "      <td>NaN</td>\n",
       "      <td>NaN</td>\n",
       "    </tr>\n",
       "    <tr>\n",
       "      <th>StreamingMovies</th>\n",
       "      <td>7043</td>\n",
       "      <td>3</td>\n",
       "      <td>No</td>\n",
       "      <td>2785</td>\n",
       "      <td>NaN</td>\n",
       "      <td>NaN</td>\n",
       "      <td>NaN</td>\n",
       "      <td>NaN</td>\n",
       "      <td>NaN</td>\n",
       "      <td>NaN</td>\n",
       "      <td>NaN</td>\n",
       "    </tr>\n",
       "    <tr>\n",
       "      <th>Contract</th>\n",
       "      <td>7043</td>\n",
       "      <td>3</td>\n",
       "      <td>Month-to-month</td>\n",
       "      <td>3875</td>\n",
       "      <td>NaN</td>\n",
       "      <td>NaN</td>\n",
       "      <td>NaN</td>\n",
       "      <td>NaN</td>\n",
       "      <td>NaN</td>\n",
       "      <td>NaN</td>\n",
       "      <td>NaN</td>\n",
       "    </tr>\n",
       "    <tr>\n",
       "      <th>PaperlessBilling</th>\n",
       "      <td>7043</td>\n",
       "      <td>2</td>\n",
       "      <td>Yes</td>\n",
       "      <td>4171</td>\n",
       "      <td>NaN</td>\n",
       "      <td>NaN</td>\n",
       "      <td>NaN</td>\n",
       "      <td>NaN</td>\n",
       "      <td>NaN</td>\n",
       "      <td>NaN</td>\n",
       "      <td>NaN</td>\n",
       "    </tr>\n",
       "    <tr>\n",
       "      <th>PaymentMethod</th>\n",
       "      <td>7043</td>\n",
       "      <td>4</td>\n",
       "      <td>Electronic check</td>\n",
       "      <td>2365</td>\n",
       "      <td>NaN</td>\n",
       "      <td>NaN</td>\n",
       "      <td>NaN</td>\n",
       "      <td>NaN</td>\n",
       "      <td>NaN</td>\n",
       "      <td>NaN</td>\n",
       "      <td>NaN</td>\n",
       "    </tr>\n",
       "    <tr>\n",
       "      <th>MonthlyCharges</th>\n",
       "      <td>7043.0</td>\n",
       "      <td>NaN</td>\n",
       "      <td>NaN</td>\n",
       "      <td>NaN</td>\n",
       "      <td>64.761692</td>\n",
       "      <td>30.090047</td>\n",
       "      <td>18.25</td>\n",
       "      <td>35.5</td>\n",
       "      <td>70.35</td>\n",
       "      <td>89.85</td>\n",
       "      <td>118.75</td>\n",
       "    </tr>\n",
       "    <tr>\n",
       "      <th>TotalCharges</th>\n",
       "      <td>7043</td>\n",
       "      <td>6531</td>\n",
       "      <td></td>\n",
       "      <td>11</td>\n",
       "      <td>NaN</td>\n",
       "      <td>NaN</td>\n",
       "      <td>NaN</td>\n",
       "      <td>NaN</td>\n",
       "      <td>NaN</td>\n",
       "      <td>NaN</td>\n",
       "      <td>NaN</td>\n",
       "    </tr>\n",
       "    <tr>\n",
       "      <th>Churn</th>\n",
       "      <td>7043</td>\n",
       "      <td>2</td>\n",
       "      <td>No</td>\n",
       "      <td>5174</td>\n",
       "      <td>NaN</td>\n",
       "      <td>NaN</td>\n",
       "      <td>NaN</td>\n",
       "      <td>NaN</td>\n",
       "      <td>NaN</td>\n",
       "      <td>NaN</td>\n",
       "      <td>NaN</td>\n",
       "    </tr>\n",
       "  </tbody>\n",
       "</table>\n",
       "</div>"
      ],
      "text/plain": [
       "                   count unique               top  freq       mean        std  \\\n",
       "customerID          7043   7043        7590-VHVEG     1        NaN        NaN   \n",
       "gender              7043      2              Male  3555        NaN        NaN   \n",
       "SeniorCitizen     7043.0    NaN               NaN   NaN   0.162147   0.368612   \n",
       "Partner             7043      2                No  3641        NaN        NaN   \n",
       "Dependents          7043      2                No  4933        NaN        NaN   \n",
       "tenure            7043.0    NaN               NaN   NaN  32.371149  24.559481   \n",
       "PhoneService        7043      2               Yes  6361        NaN        NaN   \n",
       "MultipleLines       7043      3                No  3390        NaN        NaN   \n",
       "InternetService     7043      3       Fiber optic  3096        NaN        NaN   \n",
       "OnlineSecurity      7043      3                No  3498        NaN        NaN   \n",
       "OnlineBackup        7043      3                No  3088        NaN        NaN   \n",
       "DeviceProtection    7043      3                No  3095        NaN        NaN   \n",
       "TechSupport         7043      3                No  3473        NaN        NaN   \n",
       "StreamingTV         7043      3                No  2810        NaN        NaN   \n",
       "StreamingMovies     7043      3                No  2785        NaN        NaN   \n",
       "Contract            7043      3    Month-to-month  3875        NaN        NaN   \n",
       "PaperlessBilling    7043      2               Yes  4171        NaN        NaN   \n",
       "PaymentMethod       7043      4  Electronic check  2365        NaN        NaN   \n",
       "MonthlyCharges    7043.0    NaN               NaN   NaN  64.761692  30.090047   \n",
       "TotalCharges        7043   6531                      11        NaN        NaN   \n",
       "Churn               7043      2                No  5174        NaN        NaN   \n",
       "\n",
       "                    min   25%    50%    75%     max  \n",
       "customerID          NaN   NaN    NaN    NaN     NaN  \n",
       "gender              NaN   NaN    NaN    NaN     NaN  \n",
       "SeniorCitizen       0.0   0.0    0.0    0.0     1.0  \n",
       "Partner             NaN   NaN    NaN    NaN     NaN  \n",
       "Dependents          NaN   NaN    NaN    NaN     NaN  \n",
       "tenure              0.0   9.0   29.0   55.0    72.0  \n",
       "PhoneService        NaN   NaN    NaN    NaN     NaN  \n",
       "MultipleLines       NaN   NaN    NaN    NaN     NaN  \n",
       "InternetService     NaN   NaN    NaN    NaN     NaN  \n",
       "OnlineSecurity      NaN   NaN    NaN    NaN     NaN  \n",
       "OnlineBackup        NaN   NaN    NaN    NaN     NaN  \n",
       "DeviceProtection    NaN   NaN    NaN    NaN     NaN  \n",
       "TechSupport         NaN   NaN    NaN    NaN     NaN  \n",
       "StreamingTV         NaN   NaN    NaN    NaN     NaN  \n",
       "StreamingMovies     NaN   NaN    NaN    NaN     NaN  \n",
       "Contract            NaN   NaN    NaN    NaN     NaN  \n",
       "PaperlessBilling    NaN   NaN    NaN    NaN     NaN  \n",
       "PaymentMethod       NaN   NaN    NaN    NaN     NaN  \n",
       "MonthlyCharges    18.25  35.5  70.35  89.85  118.75  \n",
       "TotalCharges        NaN   NaN    NaN    NaN     NaN  \n",
       "Churn               NaN   NaN    NaN    NaN     NaN  "
      ]
     },
     "execution_count": 5,
     "metadata": {},
     "output_type": "execute_result"
    }
   ],
   "source": [
    "# Describtion about dataset\n",
    "df.describe(include='all')"
   ]
  },
  {
   "cell_type": "code",
   "execution_count": 6,
   "id": "04a1dbac",
   "metadata": {
    "execution": {
     "iopub.execute_input": "2023-08-31T14:57:12.942310Z",
     "iopub.status.busy": "2023-08-31T14:57:12.941664Z",
     "iopub.status.idle": "2023-08-31T14:57:12.953214Z",
     "shell.execute_reply": "2023-08-31T14:57:12.951602Z"
    },
    "papermill": {
     "duration": 0.038419,
     "end_time": "2023-08-31T14:57:12.956345",
     "exception": false,
     "start_time": "2023-08-31T14:57:12.917926",
     "status": "completed"
    },
    "tags": []
   },
   "outputs": [
    {
     "data": {
      "text/plain": [
       "customerID           object\n",
       "gender               object\n",
       "SeniorCitizen         int64\n",
       "Partner              object\n",
       "Dependents           object\n",
       "tenure                int64\n",
       "PhoneService         object\n",
       "MultipleLines        object\n",
       "InternetService      object\n",
       "OnlineSecurity       object\n",
       "OnlineBackup         object\n",
       "DeviceProtection     object\n",
       "TechSupport          object\n",
       "StreamingTV          object\n",
       "StreamingMovies      object\n",
       "Contract             object\n",
       "PaperlessBilling     object\n",
       "PaymentMethod        object\n",
       "MonthlyCharges      float64\n",
       "TotalCharges         object\n",
       "Churn                object\n",
       "dtype: object"
      ]
     },
     "execution_count": 6,
     "metadata": {},
     "output_type": "execute_result"
    }
   ],
   "source": [
    "# Types\n",
    "df.dtypes"
   ]
  },
  {
   "cell_type": "code",
   "execution_count": 7,
   "id": "1ba54eea",
   "metadata": {
    "execution": {
     "iopub.execute_input": "2023-08-31T14:57:13.000066Z",
     "iopub.status.busy": "2023-08-31T14:57:12.999498Z",
     "iopub.status.idle": "2023-08-31T14:57:13.059401Z",
     "shell.execute_reply": "2023-08-31T14:57:13.058113Z"
    },
    "papermill": {
     "duration": 0.084154,
     "end_time": "2023-08-31T14:57:13.062250",
     "exception": false,
     "start_time": "2023-08-31T14:57:12.978096",
     "status": "completed"
    },
    "tags": []
   },
   "outputs": [
    {
     "data": {
      "text/plain": [
       "customerID          0\n",
       "gender              0\n",
       "SeniorCitizen       0\n",
       "Partner             0\n",
       "Dependents          0\n",
       "tenure              0\n",
       "PhoneService        0\n",
       "MultipleLines       0\n",
       "InternetService     0\n",
       "OnlineSecurity      0\n",
       "OnlineBackup        0\n",
       "DeviceProtection    0\n",
       "TechSupport         0\n",
       "StreamingTV         0\n",
       "StreamingMovies     0\n",
       "Contract            0\n",
       "PaperlessBilling    0\n",
       "PaymentMethod       0\n",
       "MonthlyCharges      0\n",
       "TotalCharges        0\n",
       "Churn               0\n",
       "dtype: int64"
      ]
     },
     "execution_count": 7,
     "metadata": {},
     "output_type": "execute_result"
    }
   ],
   "source": [
    "# null values\n",
    "df.isna().sum()"
   ]
  },
  {
   "cell_type": "code",
   "execution_count": 8,
   "id": "a0e21da4",
   "metadata": {
    "execution": {
     "iopub.execute_input": "2023-08-31T14:57:13.106773Z",
     "iopub.status.busy": "2023-08-31T14:57:13.106023Z",
     "iopub.status.idle": "2023-08-31T14:57:13.114042Z",
     "shell.execute_reply": "2023-08-31T14:57:13.112836Z"
    },
    "papermill": {
     "duration": 0.033798,
     "end_time": "2023-08-31T14:57:13.116893",
     "exception": false,
     "start_time": "2023-08-31T14:57:13.083095",
     "status": "completed"
    },
    "tags": []
   },
   "outputs": [
    {
     "data": {
      "text/plain": [
       "(7043, 21)"
      ]
     },
     "execution_count": 8,
     "metadata": {},
     "output_type": "execute_result"
    }
   ],
   "source": [
    "# the shape of dataframe\n",
    "df.shape"
   ]
  },
  {
   "cell_type": "markdown",
   "id": "1a2519ed",
   "metadata": {
    "papermill": {
     "duration": 0.018859,
     "end_time": "2023-08-31T14:57:13.155584",
     "exception": false,
     "start_time": "2023-08-31T14:57:13.136725",
     "status": "completed"
    },
    "tags": []
   },
   "source": [
    "# Data Wrangling"
   ]
  },
  {
   "cell_type": "markdown",
   "id": "a4c37805",
   "metadata": {},
   "source": [
    "The column of customerID is not important so i will drop it"
   ]
  },
  {
   "cell_type": "code",
   "execution_count": 9,
   "id": "32f94a02",
   "metadata": {
    "execution": {
     "iopub.execute_input": "2023-08-31T14:57:13.196835Z",
     "iopub.status.busy": "2023-08-31T14:57:13.196424Z",
     "iopub.status.idle": "2023-08-31T14:57:13.221817Z",
     "shell.execute_reply": "2023-08-31T14:57:13.220614Z"
    },
    "papermill": {
     "duration": 0.049976,
     "end_time": "2023-08-31T14:57:13.225013",
     "exception": false,
     "start_time": "2023-08-31T14:57:13.175037",
     "status": "completed"
    },
    "tags": []
   },
   "outputs": [
    {
     "data": {
      "text/html": [
       "<div>\n",
       "<style scoped>\n",
       "    .dataframe tbody tr th:only-of-type {\n",
       "        vertical-align: middle;\n",
       "    }\n",
       "\n",
       "    .dataframe tbody tr th {\n",
       "        vertical-align: top;\n",
       "    }\n",
       "\n",
       "    .dataframe thead th {\n",
       "        text-align: right;\n",
       "    }\n",
       "</style>\n",
       "<table border=\"1\" class=\"dataframe\">\n",
       "  <thead>\n",
       "    <tr style=\"text-align: right;\">\n",
       "      <th></th>\n",
       "      <th>gender</th>\n",
       "      <th>SeniorCitizen</th>\n",
       "      <th>Partner</th>\n",
       "      <th>Dependents</th>\n",
       "      <th>tenure</th>\n",
       "      <th>PhoneService</th>\n",
       "      <th>MultipleLines</th>\n",
       "      <th>InternetService</th>\n",
       "      <th>OnlineSecurity</th>\n",
       "      <th>OnlineBackup</th>\n",
       "      <th>DeviceProtection</th>\n",
       "      <th>TechSupport</th>\n",
       "      <th>StreamingTV</th>\n",
       "      <th>StreamingMovies</th>\n",
       "      <th>Contract</th>\n",
       "      <th>PaperlessBilling</th>\n",
       "      <th>PaymentMethod</th>\n",
       "      <th>MonthlyCharges</th>\n",
       "      <th>TotalCharges</th>\n",
       "      <th>Churn</th>\n",
       "    </tr>\n",
       "  </thead>\n",
       "  <tbody>\n",
       "    <tr>\n",
       "      <th>0</th>\n",
       "      <td>Female</td>\n",
       "      <td>0</td>\n",
       "      <td>Yes</td>\n",
       "      <td>No</td>\n",
       "      <td>1</td>\n",
       "      <td>No</td>\n",
       "      <td>No phone service</td>\n",
       "      <td>DSL</td>\n",
       "      <td>No</td>\n",
       "      <td>Yes</td>\n",
       "      <td>No</td>\n",
       "      <td>No</td>\n",
       "      <td>No</td>\n",
       "      <td>No</td>\n",
       "      <td>Month-to-month</td>\n",
       "      <td>Yes</td>\n",
       "      <td>Electronic check</td>\n",
       "      <td>29.85</td>\n",
       "      <td>29.85</td>\n",
       "      <td>No</td>\n",
       "    </tr>\n",
       "    <tr>\n",
       "      <th>1</th>\n",
       "      <td>Male</td>\n",
       "      <td>0</td>\n",
       "      <td>No</td>\n",
       "      <td>No</td>\n",
       "      <td>34</td>\n",
       "      <td>Yes</td>\n",
       "      <td>No</td>\n",
       "      <td>DSL</td>\n",
       "      <td>Yes</td>\n",
       "      <td>No</td>\n",
       "      <td>Yes</td>\n",
       "      <td>No</td>\n",
       "      <td>No</td>\n",
       "      <td>No</td>\n",
       "      <td>One year</td>\n",
       "      <td>No</td>\n",
       "      <td>Mailed check</td>\n",
       "      <td>56.95</td>\n",
       "      <td>1889.5</td>\n",
       "      <td>No</td>\n",
       "    </tr>\n",
       "  </tbody>\n",
       "</table>\n",
       "</div>"
      ],
      "text/plain": [
       "   gender  SeniorCitizen Partner Dependents  tenure PhoneService  \\\n",
       "0  Female              0     Yes         No       1           No   \n",
       "1    Male              0      No         No      34          Yes   \n",
       "\n",
       "      MultipleLines InternetService OnlineSecurity OnlineBackup  \\\n",
       "0  No phone service             DSL             No          Yes   \n",
       "1                No             DSL            Yes           No   \n",
       "\n",
       "  DeviceProtection TechSupport StreamingTV StreamingMovies        Contract  \\\n",
       "0               No          No          No              No  Month-to-month   \n",
       "1              Yes          No          No              No        One year   \n",
       "\n",
       "  PaperlessBilling     PaymentMethod  MonthlyCharges TotalCharges Churn  \n",
       "0              Yes  Electronic check           29.85        29.85    No  \n",
       "1               No      Mailed check           56.95       1889.5    No  "
      ]
     },
     "execution_count": 9,
     "metadata": {},
     "output_type": "execute_result"
    }
   ],
   "source": [
    "\n",
    "df.drop('customerID',axis=1,inplace=True)\n",
    "df.head(2)\n"
   ]
  },
  {
   "cell_type": "code",
   "execution_count": 10,
   "id": "935e6683",
   "metadata": {
    "execution": {
     "iopub.execute_input": "2023-08-31T14:57:13.270841Z",
     "iopub.status.busy": "2023-08-31T14:57:13.269891Z",
     "iopub.status.idle": "2023-08-31T14:57:13.287000Z",
     "shell.execute_reply": "2023-08-31T14:57:13.285702Z"
    },
    "papermill": {
     "duration": 0.042774,
     "end_time": "2023-08-31T14:57:13.289784",
     "exception": false,
     "start_time": "2023-08-31T14:57:13.247010",
     "status": "completed"
    },
    "tags": []
   },
   "outputs": [
    {
     "data": {
      "text/plain": [
       "count     7043\n",
       "unique    6531\n",
       "top           \n",
       "freq        11\n",
       "Name: TotalCharges, dtype: object"
      ]
     },
     "execution_count": 10,
     "metadata": {},
     "output_type": "execute_result"
    }
   ],
   "source": [
    "df['TotalCharges'].describe()"
   ]
  },
  {
   "cell_type": "markdown",
   "id": "d9f75022",
   "metadata": {},
   "source": [
    " Number of null values in totalcharges column\n"
   ]
  },
  {
   "cell_type": "code",
   "execution_count": 11,
   "id": "0e637399",
   "metadata": {
    "execution": {
     "iopub.execute_input": "2023-08-31T14:57:13.332758Z",
     "iopub.status.busy": "2023-08-31T14:57:13.332196Z",
     "iopub.status.idle": "2023-08-31T14:57:13.344025Z",
     "shell.execute_reply": "2023-08-31T14:57:13.342656Z"
    },
    "papermill": {
     "duration": 0.03641,
     "end_time": "2023-08-31T14:57:13.346478",
     "exception": false,
     "start_time": "2023-08-31T14:57:13.310068",
     "status": "completed"
    },
    "tags": []
   },
   "outputs": [
    {
     "data": {
      "text/plain": [
       "11"
      ]
     },
     "execution_count": 11,
     "metadata": {},
     "output_type": "execute_result"
    }
   ],
   "source": [
    "len(df[df['TotalCharges']==\" \"])"
   ]
  },
  {
   "cell_type": "markdown",
   "id": "3fd744b2",
   "metadata": {},
   "source": [
    "Converting the type of totalcharges column"
   ]
  },
  {
   "cell_type": "code",
   "execution_count": 12,
   "id": "5f5dce89",
   "metadata": {
    "execution": {
     "iopub.execute_input": "2023-08-31T14:57:13.388717Z",
     "iopub.status.busy": "2023-08-31T14:57:13.388055Z",
     "iopub.status.idle": "2023-08-31T14:57:13.400602Z",
     "shell.execute_reply": "2023-08-31T14:57:13.399302Z"
    },
    "papermill": {
     "duration": 0.038097,
     "end_time": "2023-08-31T14:57:13.404383",
     "exception": false,
     "start_time": "2023-08-31T14:57:13.366286",
     "status": "completed"
    },
    "tags": []
   },
   "outputs": [],
   "source": [
    "\n",
    "df['TotalCharges']=pd.to_numeric(df['TotalCharges'],errors='coerce')"
   ]
  },
  {
   "cell_type": "code",
   "execution_count": 13,
   "id": "58597e25",
   "metadata": {
    "execution": {
     "iopub.execute_input": "2023-08-31T14:57:13.446656Z",
     "iopub.status.busy": "2023-08-31T14:57:13.446155Z",
     "iopub.status.idle": "2023-08-31T14:57:13.459272Z",
     "shell.execute_reply": "2023-08-31T14:57:13.457625Z"
    },
    "papermill": {
     "duration": 0.037261,
     "end_time": "2023-08-31T14:57:13.462014",
     "exception": false,
     "start_time": "2023-08-31T14:57:13.424753",
     "status": "completed"
    },
    "tags": []
   },
   "outputs": [
    {
     "data": {
      "text/plain": [
       "0"
      ]
     },
     "execution_count": 13,
     "metadata": {},
     "output_type": "execute_result"
    }
   ],
   "source": [
    "df['TotalCharges']=df['TotalCharges'].fillna(df['TotalCharges'].median())\n",
    "len(df[df['TotalCharges']==\" \"])"
   ]
  },
  {
   "cell_type": "code",
   "execution_count": 14,
   "id": "08f605e3",
   "metadata": {
    "execution": {
     "iopub.execute_input": "2023-08-31T14:57:13.504374Z",
     "iopub.status.busy": "2023-08-31T14:57:13.503769Z",
     "iopub.status.idle": "2023-08-31T14:57:13.513953Z",
     "shell.execute_reply": "2023-08-31T14:57:13.512997Z"
    },
    "papermill": {
     "duration": 0.035106,
     "end_time": "2023-08-31T14:57:13.516970",
     "exception": false,
     "start_time": "2023-08-31T14:57:13.481864",
     "status": "completed"
    },
    "tags": []
   },
   "outputs": [
    {
     "data": {
      "text/plain": [
       "No     5174\n",
       "Yes    1869\n",
       "Name: Churn, dtype: int64"
      ]
     },
     "execution_count": 14,
     "metadata": {},
     "output_type": "execute_result"
    }
   ],
   "source": [
    "df['Churn'].value_counts()"
   ]
  },
  {
   "cell_type": "code",
   "execution_count": 15,
   "id": "586a32f2",
   "metadata": {
    "execution": {
     "iopub.execute_input": "2023-08-31T14:57:13.560167Z",
     "iopub.status.busy": "2023-08-31T14:57:13.559767Z",
     "iopub.status.idle": "2023-08-31T14:57:13.576749Z",
     "shell.execute_reply": "2023-08-31T14:57:13.575455Z"
    },
    "papermill": {
     "duration": 0.041816,
     "end_time": "2023-08-31T14:57:13.579589",
     "exception": false,
     "start_time": "2023-08-31T14:57:13.537773",
     "status": "completed"
    },
    "tags": []
   },
   "outputs": [
    {
     "data": {
      "text/plain": [
       "0    5174\n",
       "1    1869\n",
       "Name: Churn, dtype: int64"
      ]
     },
     "execution_count": 15,
     "metadata": {},
     "output_type": "execute_result"
    }
   ],
   "source": [
    "df['Churn']=df['Churn'].apply(lambda x:1 if x=='Yes' else 0)\n",
    "df['Churn'].value_counts()# imbalance "
   ]
  },
  {
   "cell_type": "code",
   "execution_count": 16,
   "id": "0e1fa063",
   "metadata": {
    "execution": {
     "iopub.execute_input": "2023-08-31T14:57:13.622197Z",
     "iopub.status.busy": "2023-08-31T14:57:13.621748Z",
     "iopub.status.idle": "2023-08-31T14:57:13.628455Z",
     "shell.execute_reply": "2023-08-31T14:57:13.627295Z"
    },
    "papermill": {
     "duration": 0.031236,
     "end_time": "2023-08-31T14:57:13.631067",
     "exception": false,
     "start_time": "2023-08-31T14:57:13.599831",
     "status": "completed"
    },
    "tags": []
   },
   "outputs": [],
   "source": [
    "df['SeniorCitizen']=df['SeniorCitizen'].astype('object')"
   ]
  },
  {
   "cell_type": "code",
   "execution_count": 17,
   "id": "d37bb617",
   "metadata": {
    "execution": {
     "iopub.execute_input": "2023-08-31T14:57:13.679732Z",
     "iopub.status.busy": "2023-08-31T14:57:13.679308Z",
     "iopub.status.idle": "2023-08-31T14:57:13.692724Z",
     "shell.execute_reply": "2023-08-31T14:57:13.691578Z"
    },
    "papermill": {
     "duration": 0.038311,
     "end_time": "2023-08-31T14:57:13.695519",
     "exception": false,
     "start_time": "2023-08-31T14:57:13.657208",
     "status": "completed"
    },
    "tags": []
   },
   "outputs": [],
   "source": [
    "categorical=list(df.select_dtypes(include=['object']).columns)\n",
    "numerical=list(df.select_dtypes(include=['number']).columns)"
   ]
  },
  {
   "cell_type": "code",
   "execution_count": 18,
   "id": "e819006b",
   "metadata": {
    "execution": {
     "iopub.execute_input": "2023-08-31T14:57:13.740697Z",
     "iopub.status.busy": "2023-08-31T14:57:13.740208Z",
     "iopub.status.idle": "2023-08-31T14:57:13.748660Z",
     "shell.execute_reply": "2023-08-31T14:57:13.747293Z"
    },
    "papermill": {
     "duration": 0.033417,
     "end_time": "2023-08-31T14:57:13.751409",
     "exception": false,
     "start_time": "2023-08-31T14:57:13.717992",
     "status": "completed"
    },
    "tags": []
   },
   "outputs": [
    {
     "data": {
      "text/plain": [
       "['gender',\n",
       " 'SeniorCitizen',\n",
       " 'Partner',\n",
       " 'Dependents',\n",
       " 'PhoneService',\n",
       " 'MultipleLines',\n",
       " 'InternetService',\n",
       " 'OnlineSecurity',\n",
       " 'OnlineBackup',\n",
       " 'DeviceProtection',\n",
       " 'TechSupport',\n",
       " 'StreamingTV',\n",
       " 'StreamingMovies',\n",
       " 'Contract',\n",
       " 'PaperlessBilling',\n",
       " 'PaymentMethod']"
      ]
     },
     "execution_count": 18,
     "metadata": {},
     "output_type": "execute_result"
    }
   ],
   "source": [
    "categorical"
   ]
  },
  {
   "cell_type": "code",
   "execution_count": 19,
   "id": "38107233",
   "metadata": {
    "execution": {
     "iopub.execute_input": "2023-08-31T14:57:13.794642Z",
     "iopub.status.busy": "2023-08-31T14:57:13.794126Z",
     "iopub.status.idle": "2023-08-31T14:57:13.802110Z",
     "shell.execute_reply": "2023-08-31T14:57:13.801055Z"
    },
    "papermill": {
     "duration": 0.032946,
     "end_time": "2023-08-31T14:57:13.804960",
     "exception": false,
     "start_time": "2023-08-31T14:57:13.772014",
     "status": "completed"
    },
    "tags": []
   },
   "outputs": [
    {
     "data": {
      "text/plain": [
       "['tenure', 'MonthlyCharges', 'TotalCharges', 'Churn']"
      ]
     },
     "execution_count": 19,
     "metadata": {},
     "output_type": "execute_result"
    }
   ],
   "source": [
    "numerical"
   ]
  },
  {
   "cell_type": "markdown",
   "id": "e89fbe57",
   "metadata": {},
   "source": [
    "Removing Churn column from numerical"
   ]
  },
  {
   "cell_type": "code",
   "execution_count": 20,
   "id": "32da3ca5",
   "metadata": {
    "execution": {
     "iopub.execute_input": "2023-08-31T14:57:13.850755Z",
     "iopub.status.busy": "2023-08-31T14:57:13.850265Z",
     "iopub.status.idle": "2023-08-31T14:57:13.857295Z",
     "shell.execute_reply": "2023-08-31T14:57:13.855630Z"
    },
    "papermill": {
     "duration": 0.033803,
     "end_time": "2023-08-31T14:57:13.860088",
     "exception": false,
     "start_time": "2023-08-31T14:57:13.826285",
     "status": "completed"
    },
    "tags": []
   },
   "outputs": [],
   "source": [
    "\n",
    "numerical.remove('Churn')"
   ]
  },
  {
   "cell_type": "markdown",
   "id": "e10239ec",
   "metadata": {
    "papermill": {
     "duration": 0.020588,
     "end_time": "2023-08-31T14:57:13.904486",
     "exception": false,
     "start_time": "2023-08-31T14:57:13.883898",
     "status": "completed"
    },
    "tags": []
   },
   "source": [
    "### calculating features importance"
   ]
  },
  {
   "cell_type": "code",
   "execution_count": 21,
   "id": "2ae8e432",
   "metadata": {
    "execution": {
     "iopub.execute_input": "2023-08-31T14:57:13.950827Z",
     "iopub.status.busy": "2023-08-31T14:57:13.950297Z",
     "iopub.status.idle": "2023-08-31T14:57:13.962823Z",
     "shell.execute_reply": "2023-08-31T14:57:13.960941Z"
    },
    "papermill": {
     "duration": 0.040499,
     "end_time": "2023-08-31T14:57:13.966069",
     "exception": false,
     "start_time": "2023-08-31T14:57:13.925570",
     "status": "completed"
    },
    "tags": []
   },
   "outputs": [
    {
     "data": {
      "text/plain": [
       "0.27"
      ]
     },
     "execution_count": 21,
     "metadata": {},
     "output_type": "execute_result"
    }
   ],
   "source": [
    "# calculate the feature impotance\n",
    "global_mean=df['Churn'].mean()\n",
    "round(global_mean,2)"
   ]
  },
  {
   "cell_type": "markdown",
   "id": "05bab236",
   "metadata": {
    "papermill": {
     "duration": 0.031387,
     "end_time": "2023-08-31T14:57:14.026111",
     "exception": false,
     "start_time": "2023-08-31T14:57:13.994724",
     "status": "completed"
    },
    "tags": []
   },
   "source": [
    "Gender\n"
   ]
  },
  {
   "cell_type": "code",
   "execution_count": 22,
   "id": "1577413e",
   "metadata": {
    "execution": {
     "iopub.execute_input": "2023-08-31T14:57:14.077317Z",
     "iopub.status.busy": "2023-08-31T14:57:14.076861Z",
     "iopub.status.idle": "2023-08-31T14:57:14.091669Z",
     "shell.execute_reply": "2023-08-31T14:57:14.090336Z"
    },
    "papermill": {
     "duration": 0.042222,
     "end_time": "2023-08-31T14:57:14.094362",
     "exception": false,
     "start_time": "2023-08-31T14:57:14.052140",
     "status": "completed"
    },
    "tags": []
   },
   "outputs": [
    {
     "data": {
      "text/plain": [
       "gender\n",
       "Female    1.014466\n",
       "Male      0.985807\n",
       "Name: Churn, dtype: float64"
      ]
     },
     "execution_count": 22,
     "metadata": {},
     "output_type": "execute_result"
    }
   ],
   "source": [
    "churn_gender=df.groupby('gender').Churn.mean()\n",
    "gender_risk= churn_gender/global_mean\n",
    "gender_risk \n",
    "# The differance between rates is small so gender is not important feature"
   ]
  },
  {
   "cell_type": "markdown",
   "id": "5eafc765",
   "metadata": {
    "papermill": {
     "duration": 0.021127,
     "end_time": "2023-08-31T14:57:14.137044",
     "exception": false,
     "start_time": "2023-08-31T14:57:14.115917",
     "status": "completed"
    },
    "tags": []
   },
   "source": [
    "partner"
   ]
  },
  {
   "cell_type": "code",
   "execution_count": 23,
   "id": "2164e9e1",
   "metadata": {
    "execution": {
     "iopub.execute_input": "2023-08-31T14:57:14.181127Z",
     "iopub.status.busy": "2023-08-31T14:57:14.180692Z",
     "iopub.status.idle": "2023-08-31T14:57:14.192909Z",
     "shell.execute_reply": "2023-08-31T14:57:14.191694Z"
    },
    "papermill": {
     "duration": 0.037261,
     "end_time": "2023-08-31T14:57:14.195523",
     "exception": false,
     "start_time": "2023-08-31T14:57:14.158262",
     "status": "completed"
    },
    "tags": []
   },
   "outputs": [
    {
     "data": {
      "text/plain": [
       "Partner\n",
       "No     1.241964\n",
       "Yes    0.741038\n",
       "Name: Churn, dtype: float64"
      ]
     },
     "execution_count": 23,
     "metadata": {},
     "output_type": "execute_result"
    }
   ],
   "source": [
    "churn_partner=df.groupby('Partner').Churn.mean()\n",
    "partner_risk= churn_partner/global_mean\n",
    "partner_risk\n",
    "# The differance between rates is not small so Partner is important feature"
   ]
  },
  {
   "cell_type": "code",
   "execution_count": 24,
   "id": "f4347ce6",
   "metadata": {
    "execution": {
     "iopub.execute_input": "2023-08-31T14:57:14.239370Z",
     "iopub.status.busy": "2023-08-31T14:57:14.238928Z",
     "iopub.status.idle": "2023-08-31T14:57:14.302168Z",
     "shell.execute_reply": "2023-08-31T14:57:14.300776Z"
    },
    "papermill": {
     "duration": 0.089595,
     "end_time": "2023-08-31T14:57:14.306036",
     "exception": false,
     "start_time": "2023-08-31T14:57:14.216441",
     "status": "completed"
    },
    "tags": []
   },
   "outputs": [],
   "source": [
    "from sklearn.preprocessing import LabelEncoder\n",
    "\n",
    "categorical_columns = ['gender', 'SeniorCitizen', 'Partner', 'Dependents', 'PhoneService', 'MultipleLines',\n",
    "                       'InternetService', 'OnlineSecurity', 'OnlineBackup', 'DeviceProtection', 'TechSupport',\n",
    "                       'StreamingTV', 'StreamingMovies', 'Contract', 'PaperlessBilling', 'PaymentMethod']\n",
    "\n",
    "label_encoder = LabelEncoder()\n",
    "for col in categorical_columns:\n",
    "    df[col] = label_encoder.fit_transform(df[col])"
   ]
  },
  {
   "cell_type": "code",
   "execution_count": 25,
   "id": "1ca1ac94",
   "metadata": {
    "execution": {
     "iopub.execute_input": "2023-08-31T14:57:14.355850Z",
     "iopub.status.busy": "2023-08-31T14:57:14.355055Z",
     "iopub.status.idle": "2023-08-31T14:57:14.378073Z",
     "shell.execute_reply": "2023-08-31T14:57:14.376814Z"
    },
    "papermill": {
     "duration": 0.052133,
     "end_time": "2023-08-31T14:57:14.381021",
     "exception": false,
     "start_time": "2023-08-31T14:57:14.328888",
     "status": "completed"
    },
    "tags": []
   },
   "outputs": [
    {
     "data": {
      "text/html": [
       "<div>\n",
       "<style scoped>\n",
       "    .dataframe tbody tr th:only-of-type {\n",
       "        vertical-align: middle;\n",
       "    }\n",
       "\n",
       "    .dataframe tbody tr th {\n",
       "        vertical-align: top;\n",
       "    }\n",
       "\n",
       "    .dataframe thead th {\n",
       "        text-align: right;\n",
       "    }\n",
       "</style>\n",
       "<table border=\"1\" class=\"dataframe\">\n",
       "  <thead>\n",
       "    <tr style=\"text-align: right;\">\n",
       "      <th></th>\n",
       "      <th>gender</th>\n",
       "      <th>SeniorCitizen</th>\n",
       "      <th>Partner</th>\n",
       "      <th>Dependents</th>\n",
       "      <th>tenure</th>\n",
       "      <th>PhoneService</th>\n",
       "      <th>MultipleLines</th>\n",
       "      <th>InternetService</th>\n",
       "      <th>OnlineSecurity</th>\n",
       "      <th>OnlineBackup</th>\n",
       "      <th>DeviceProtection</th>\n",
       "      <th>TechSupport</th>\n",
       "      <th>StreamingTV</th>\n",
       "      <th>StreamingMovies</th>\n",
       "      <th>Contract</th>\n",
       "      <th>PaperlessBilling</th>\n",
       "      <th>PaymentMethod</th>\n",
       "      <th>MonthlyCharges</th>\n",
       "      <th>TotalCharges</th>\n",
       "      <th>Churn</th>\n",
       "    </tr>\n",
       "  </thead>\n",
       "  <tbody>\n",
       "    <tr>\n",
       "      <th>0</th>\n",
       "      <td>0</td>\n",
       "      <td>0</td>\n",
       "      <td>1</td>\n",
       "      <td>0</td>\n",
       "      <td>1</td>\n",
       "      <td>0</td>\n",
       "      <td>1</td>\n",
       "      <td>0</td>\n",
       "      <td>0</td>\n",
       "      <td>2</td>\n",
       "      <td>0</td>\n",
       "      <td>0</td>\n",
       "      <td>0</td>\n",
       "      <td>0</td>\n",
       "      <td>0</td>\n",
       "      <td>1</td>\n",
       "      <td>2</td>\n",
       "      <td>29.85</td>\n",
       "      <td>29.85</td>\n",
       "      <td>0</td>\n",
       "    </tr>\n",
       "    <tr>\n",
       "      <th>1</th>\n",
       "      <td>1</td>\n",
       "      <td>0</td>\n",
       "      <td>0</td>\n",
       "      <td>0</td>\n",
       "      <td>34</td>\n",
       "      <td>1</td>\n",
       "      <td>0</td>\n",
       "      <td>0</td>\n",
       "      <td>2</td>\n",
       "      <td>0</td>\n",
       "      <td>2</td>\n",
       "      <td>0</td>\n",
       "      <td>0</td>\n",
       "      <td>0</td>\n",
       "      <td>1</td>\n",
       "      <td>0</td>\n",
       "      <td>3</td>\n",
       "      <td>56.95</td>\n",
       "      <td>1889.50</td>\n",
       "      <td>0</td>\n",
       "    </tr>\n",
       "    <tr>\n",
       "      <th>2</th>\n",
       "      <td>1</td>\n",
       "      <td>0</td>\n",
       "      <td>0</td>\n",
       "      <td>0</td>\n",
       "      <td>2</td>\n",
       "      <td>1</td>\n",
       "      <td>0</td>\n",
       "      <td>0</td>\n",
       "      <td>2</td>\n",
       "      <td>2</td>\n",
       "      <td>0</td>\n",
       "      <td>0</td>\n",
       "      <td>0</td>\n",
       "      <td>0</td>\n",
       "      <td>0</td>\n",
       "      <td>1</td>\n",
       "      <td>3</td>\n",
       "      <td>53.85</td>\n",
       "      <td>108.15</td>\n",
       "      <td>1</td>\n",
       "    </tr>\n",
       "    <tr>\n",
       "      <th>3</th>\n",
       "      <td>1</td>\n",
       "      <td>0</td>\n",
       "      <td>0</td>\n",
       "      <td>0</td>\n",
       "      <td>45</td>\n",
       "      <td>0</td>\n",
       "      <td>1</td>\n",
       "      <td>0</td>\n",
       "      <td>2</td>\n",
       "      <td>0</td>\n",
       "      <td>2</td>\n",
       "      <td>2</td>\n",
       "      <td>0</td>\n",
       "      <td>0</td>\n",
       "      <td>1</td>\n",
       "      <td>0</td>\n",
       "      <td>0</td>\n",
       "      <td>42.30</td>\n",
       "      <td>1840.75</td>\n",
       "      <td>0</td>\n",
       "    </tr>\n",
       "    <tr>\n",
       "      <th>4</th>\n",
       "      <td>0</td>\n",
       "      <td>0</td>\n",
       "      <td>0</td>\n",
       "      <td>0</td>\n",
       "      <td>2</td>\n",
       "      <td>1</td>\n",
       "      <td>0</td>\n",
       "      <td>1</td>\n",
       "      <td>0</td>\n",
       "      <td>0</td>\n",
       "      <td>0</td>\n",
       "      <td>0</td>\n",
       "      <td>0</td>\n",
       "      <td>0</td>\n",
       "      <td>0</td>\n",
       "      <td>1</td>\n",
       "      <td>2</td>\n",
       "      <td>70.70</td>\n",
       "      <td>151.65</td>\n",
       "      <td>1</td>\n",
       "    </tr>\n",
       "  </tbody>\n",
       "</table>\n",
       "</div>"
      ],
      "text/plain": [
       "   gender  SeniorCitizen  Partner  Dependents  tenure  PhoneService  \\\n",
       "0       0              0        1           0       1             0   \n",
       "1       1              0        0           0      34             1   \n",
       "2       1              0        0           0       2             1   \n",
       "3       1              0        0           0      45             0   \n",
       "4       0              0        0           0       2             1   \n",
       "\n",
       "   MultipleLines  InternetService  OnlineSecurity  OnlineBackup  \\\n",
       "0              1                0               0             2   \n",
       "1              0                0               2             0   \n",
       "2              0                0               2             2   \n",
       "3              1                0               2             0   \n",
       "4              0                1               0             0   \n",
       "\n",
       "   DeviceProtection  TechSupport  StreamingTV  StreamingMovies  Contract  \\\n",
       "0                 0            0            0                0         0   \n",
       "1                 2            0            0                0         1   \n",
       "2                 0            0            0                0         0   \n",
       "3                 2            2            0                0         1   \n",
       "4                 0            0            0                0         0   \n",
       "\n",
       "   PaperlessBilling  PaymentMethod  MonthlyCharges  TotalCharges  Churn  \n",
       "0                 1              2           29.85         29.85      0  \n",
       "1                 0              3           56.95       1889.50      0  \n",
       "2                 1              3           53.85        108.15      1  \n",
       "3                 0              0           42.30       1840.75      0  \n",
       "4                 1              2           70.70        151.65      1  "
      ]
     },
     "execution_count": 25,
     "metadata": {},
     "output_type": "execute_result"
    }
   ],
   "source": [
    "df.head(5)"
   ]
  },
  {
   "cell_type": "code",
   "execution_count": 26,
   "id": "7b244275",
   "metadata": {
    "execution": {
     "iopub.execute_input": "2023-08-31T14:57:14.427936Z",
     "iopub.status.busy": "2023-08-31T14:57:14.427091Z",
     "iopub.status.idle": "2023-08-31T14:57:14.453457Z",
     "shell.execute_reply": "2023-08-31T14:57:14.451958Z"
    },
    "papermill": {
     "duration": 0.053288,
     "end_time": "2023-08-31T14:57:14.456369",
     "exception": false,
     "start_time": "2023-08-31T14:57:14.403081",
     "status": "completed"
    },
    "tags": []
   },
   "outputs": [
    {
     "data": {
      "text/html": [
       "<div>\n",
       "<style scoped>\n",
       "    .dataframe tbody tr th:only-of-type {\n",
       "        vertical-align: middle;\n",
       "    }\n",
       "\n",
       "    .dataframe tbody tr th {\n",
       "        vertical-align: top;\n",
       "    }\n",
       "\n",
       "    .dataframe thead th {\n",
       "        text-align: right;\n",
       "    }\n",
       "</style>\n",
       "<table border=\"1\" class=\"dataframe\">\n",
       "  <thead>\n",
       "    <tr style=\"text-align: right;\">\n",
       "      <th></th>\n",
       "      <th>tenure</th>\n",
       "      <th>MonthlyCharges</th>\n",
       "      <th>TotalCharges</th>\n",
       "    </tr>\n",
       "  </thead>\n",
       "  <tbody>\n",
       "    <tr>\n",
       "      <th>0</th>\n",
       "      <td>-1.277445</td>\n",
       "      <td>-1.160323</td>\n",
       "      <td>-0.994242</td>\n",
       "    </tr>\n",
       "    <tr>\n",
       "      <th>1</th>\n",
       "      <td>0.066327</td>\n",
       "      <td>-0.259629</td>\n",
       "      <td>-0.173244</td>\n",
       "    </tr>\n",
       "    <tr>\n",
       "      <th>2</th>\n",
       "      <td>-1.236724</td>\n",
       "      <td>-0.362660</td>\n",
       "      <td>-0.959674</td>\n",
       "    </tr>\n",
       "    <tr>\n",
       "      <th>3</th>\n",
       "      <td>0.514251</td>\n",
       "      <td>-0.746535</td>\n",
       "      <td>-0.194766</td>\n",
       "    </tr>\n",
       "    <tr>\n",
       "      <th>4</th>\n",
       "      <td>-1.236724</td>\n",
       "      <td>0.197365</td>\n",
       "      <td>-0.940470</td>\n",
       "    </tr>\n",
       "  </tbody>\n",
       "</table>\n",
       "</div>"
      ],
      "text/plain": [
       "     tenure  MonthlyCharges  TotalCharges\n",
       "0 -1.277445       -1.160323     -0.994242\n",
       "1  0.066327       -0.259629     -0.173244\n",
       "2 -1.236724       -0.362660     -0.959674\n",
       "3  0.514251       -0.746535     -0.194766\n",
       "4 -1.236724        0.197365     -0.940470"
      ]
     },
     "execution_count": 26,
     "metadata": {},
     "output_type": "execute_result"
    }
   ],
   "source": [
    "scaler = StandardScaler()\n",
    "df[numerical] = scaler.fit_transform(df[numerical])\n",
    "\n",
    "df[numerical].head()\n"
   ]
  },
  {
   "cell_type": "markdown",
   "id": "3cd499e9",
   "metadata": {
    "papermill": {
     "duration": 0.021427,
     "end_time": "2023-08-31T14:57:14.499772",
     "exception": false,
     "start_time": "2023-08-31T14:57:14.478345",
     "status": "completed"
    },
    "tags": []
   },
   "source": [
    "# EDA #"
   ]
  },
  {
   "cell_type": "code",
   "execution_count": 27,
   "id": "f9c5c402",
   "metadata": {
    "execution": {
     "iopub.execute_input": "2023-08-31T14:57:14.546167Z",
     "iopub.status.busy": "2023-08-31T14:57:14.545696Z",
     "iopub.status.idle": "2023-08-31T14:57:15.237315Z",
     "shell.execute_reply": "2023-08-31T14:57:15.235699Z"
    },
    "papermill": {
     "duration": 0.719692,
     "end_time": "2023-08-31T14:57:15.240598",
     "exception": false,
     "start_time": "2023-08-31T14:57:14.520906",
     "status": "completed"
    },
    "tags": []
   },
   "outputs": [
    {
     "data": {
      "text/plain": [
       "<Axes: >"
      ]
     },
     "execution_count": 27,
     "metadata": {},
     "output_type": "execute_result"
    },
    {
     "data": {
      "image/png": "[encoded data removed]",
      "text/plain": [
       "<Figure size 640x480 with 2 Axes>"
      ]
     },
     "metadata": {},
     "output_type": "display_data"
    }
   ],
   "source": [
    "corr_num=df[numerical].corr()\n",
    "sns.heatmap(corr_num,annot=True)"
   ]
  },
  {
   "cell_type": "code",
   "execution_count": 28,
   "id": "96ca78ea",
   "metadata": {
    "execution": {
     "iopub.execute_input": "2023-08-31T14:57:15.291499Z",
     "iopub.status.busy": "2023-08-31T14:57:15.290300Z",
     "iopub.status.idle": "2023-08-31T14:57:20.878797Z",
     "shell.execute_reply": "2023-08-31T14:57:20.877683Z"
    },
    "papermill": {
     "duration": 5.617521,
     "end_time": "2023-08-31T14:57:20.881403",
     "exception": false,
     "start_time": "2023-08-31T14:57:15.263882",
     "status": "completed"
    },
    "tags": []
   },
   "outputs": [
    {
     "data": {
      "image/png": "[encoded data removed]",
      "text/plain": [
       "<Figure size 1500x1500 with 20 Axes>"
      ]
     },
     "metadata": {},
     "output_type": "display_data"
    }
   ],
   "source": [
    "df.hist(bins=50,figsize=(15,15))\n",
    "plt.show()"
   ]
  },
  {
   "cell_type": "code",
   "execution_count": 29,
   "id": "ee7dee83",
   "metadata": {
    "execution": {
     "iopub.execute_input": "2023-08-31T14:57:20.933564Z",
     "iopub.status.busy": "2023-08-31T14:57:20.932783Z",
     "iopub.status.idle": "2023-08-31T14:57:21.325585Z",
     "shell.execute_reply": "2023-08-31T14:57:21.323760Z"
    },
    "papermill": {
     "duration": 0.422465,
     "end_time": "2023-08-31T14:57:21.329079",
     "exception": false,
     "start_time": "2023-08-31T14:57:20.906614",
     "status": "completed"
    },
    "tags": []
   },
   "outputs": [
    {
     "data": {
      "image/png": "[encoded data removed]",
      "text/plain": [
       "<Figure size 640x480 with 1 Axes>"
      ]
     },
     "metadata": {},
     "output_type": "display_data"
    }
   ],
   "source": [
    "sns.barplot(data=df,x=df['gender'],y=df['Churn'])\n",
    "plt.show()"
   ]
  },
  {
   "cell_type": "code",
   "execution_count": 30,
   "id": "9744eb5e",
   "metadata": {
    "execution": {
     "iopub.execute_input": "2023-08-31T14:57:21.382615Z",
     "iopub.status.busy": "2023-08-31T14:57:21.382115Z",
     "iopub.status.idle": "2023-08-31T14:57:21.947762Z",
     "shell.execute_reply": "2023-08-31T14:57:21.946127Z"
    },
    "papermill": {
     "duration": 0.596392,
     "end_time": "2023-08-31T14:57:21.951000",
     "exception": false,
     "start_time": "2023-08-31T14:57:21.354608",
     "status": "completed"
    },
    "tags": []
   },
   "outputs": [
    {
     "data": {
      "text/plain": [
       "<Axes: title={'center': 'Correlation with Churn '}>"
      ]
     },
     "execution_count": 30,
     "metadata": {},
     "output_type": "execute_result"
    },
    {
     "data": {
      "image/png": "[encoded data removed]",
      "text/plain": [
       "<Figure size 1000x600 with 1 Axes>"
      ]
     },
     "metadata": {},
     "output_type": "display_data"
    }
   ],
   "source": [
    "df.drop('Churn',axis=1).corrwith(df.Churn).plot(kind='bar',grid=True,figsize=(10,6),title=\"Correlation with Churn \")"
   ]
  },
  {
   "cell_type": "markdown",
   "id": "47bfaff6",
   "metadata": {
    "papermill": {
     "duration": 0.026297,
     "end_time": "2023-08-31T14:57:22.004003",
     "exception": false,
     "start_time": "2023-08-31T14:57:21.977706",
     "status": "completed"
    },
    "tags": []
   },
   "source": [
    "# splitting dataset #"
   ]
  },
  {
   "cell_type": "code",
   "execution_count": 34,
   "id": "3b09f262",
   "metadata": {
    "execution": {
     "iopub.execute_input": "2023-08-31T14:57:22.066426Z",
     "iopub.status.busy": "2023-08-31T14:57:22.065037Z",
     "iopub.status.idle": "2023-08-31T14:57:22.072882Z",
     "shell.execute_reply": "2023-08-31T14:57:22.071854Z"
    },
    "papermill": {
     "duration": 0.038556,
     "end_time": "2023-08-31T14:57:22.075704",
     "exception": false,
     "start_time": "2023-08-31T14:57:22.037148",
     "status": "completed"
    },
    "tags": []
   },
   "outputs": [],
   "source": [
    "x=df.drop(columns=['Churn'],axis=1)\n",
    "y=df['Churn']"
   ]
  },
  {
   "cell_type": "code",
   "execution_count": 35,
   "id": "9ecdc78d",
   "metadata": {
    "execution": {
     "iopub.execute_input": "2023-08-31T14:57:22.132962Z",
     "iopub.status.busy": "2023-08-31T14:57:22.132426Z",
     "iopub.status.idle": "2023-08-31T14:57:22.143086Z",
     "shell.execute_reply": "2023-08-31T14:57:22.140723Z"
    },
    "papermill": {
     "duration": 0.043238,
     "end_time": "2023-08-31T14:57:22.146324",
     "exception": false,
     "start_time": "2023-08-31T14:57:22.103086",
     "status": "completed"
    },
    "tags": []
   },
   "outputs": [
    {
     "data": {
      "text/plain": [
       "0    5174\n",
       "1    1869\n",
       "Name: Churn, dtype: int64"
      ]
     },
     "execution_count": 35,
     "metadata": {},
     "output_type": "execute_result"
    }
   ],
   "source": [
    "y.value_counts()# imbalance"
   ]
  },
  {
   "cell_type": "code",
   "execution_count": 36,
   "id": "67e20700",
   "metadata": {
    "execution": {
     "iopub.execute_input": "2023-08-31T14:57:22.202207Z",
     "iopub.status.busy": "2023-08-31T14:57:22.201760Z",
     "iopub.status.idle": "2023-08-31T14:57:22.213093Z",
     "shell.execute_reply": "2023-08-31T14:57:22.211313Z"
    },
    "papermill": {
     "duration": 0.043786,
     "end_time": "2023-08-31T14:57:22.216910",
     "exception": false,
     "start_time": "2023-08-31T14:57:22.173124",
     "status": "completed"
    },
    "tags": []
   },
   "outputs": [
    {
     "name": "stdout",
     "output_type": "stream",
     "text": [
      "the shape of x_train is : (5282, 19)\n",
      "the shape of x_test is : (1761, 19)\n",
      "the shape of y_tain is : (5282,)\n",
      "the shape of y_test is (1761,)\n"
     ]
    }
   ],
   "source": [
    "x_train,x_test,y_train,y_test=train_test_split(x,y,test_size=0.25,random_state=44)\n",
    "\n",
    "print(f\"the shape of x_train is : {x_train.shape}\")\n",
    "print(f'the shape of x_test is : {x_test.shape}')\n",
    "print(f'the shape of y_tain is : {y_train.shape}')\n",
    "print(f'the shape of y_test is {y_test.shape}')"
   ]
  },
  {
   "cell_type": "markdown",
   "id": "edd2c531",
   "metadata": {
    "papermill": {
     "duration": 0.027158,
     "end_time": "2023-08-31T14:57:22.270209",
     "exception": false,
     "start_time": "2023-08-31T14:57:22.243051",
     "status": "completed"
    },
    "tags": []
   },
   "source": [
    "# models #"
   ]
  },
  {
   "cell_type": "markdown",
   "id": "35b1137c",
   "metadata": {
    "papermill": {
     "duration": 0.026675,
     "end_time": "2023-08-31T14:57:22.323302",
     "exception": false,
     "start_time": "2023-08-31T14:57:22.296627",
     "status": "completed"
    },
    "tags": []
   },
   "source": [
    "LGBMClassifier"
   ]
  },
  {
   "cell_type": "code",
   "execution_count": 37,
   "id": "029c0d93",
   "metadata": {
    "execution": {
     "iopub.execute_input": "2023-08-31T14:57:22.383151Z",
     "iopub.status.busy": "2023-08-31T14:57:22.382713Z",
     "iopub.status.idle": "2023-08-31T14:57:23.504135Z",
     "shell.execute_reply": "2023-08-31T14:57:23.502802Z"
    },
    "papermill": {
     "duration": 1.156096,
     "end_time": "2023-08-31T14:57:23.507074",
     "exception": false,
     "start_time": "2023-08-31T14:57:22.350978",
     "status": "completed"
    },
    "tags": []
   },
   "outputs": [
    {
     "name": "stdout",
     "output_type": "stream",
     "text": [
      "[LightGBM] [Info] Number of positive: 1406, number of negative: 3876\n",
      "[LightGBM] [Warning] Auto-choosing row-wise multi-threading, the overhead of testing was 0.070805 seconds.\n",
      "You can set `force_row_wise=true` to remove the overhead.\n",
      "And if memory is not enough, you can set `force_col_wise=true`.\n",
      "[LightGBM] [Info] Total Bins 627\n",
      "[LightGBM] [Info] Number of data points in the train set: 5282, number of used features: 19\n",
      "[LightGBM] [Info] [binary:BoostFromScore]: pavg=0.266187 -> initscore=-1.014055\n",
      "[LightGBM] [Info] Start training from score -1.014055\n",
      "              precision    recall  f1-score   support\n",
      "\n",
      "           0       0.84      0.90      0.87      1298\n",
      "           1       0.65      0.52      0.57       463\n",
      "\n",
      "    accuracy                           0.80      1761\n",
      "   macro avg       0.74      0.71      0.72      1761\n",
      "weighted avg       0.79      0.80      0.79      1761\n",
      "\n"
     ]
    }
   ],
   "source": [
    "l=LGBMClassifier()\n",
    "model=l.fit(x_train,y_train)\n",
    "y_pred=model.predict(x_test)\n",
    "print(classification_report(y_test, y_pred))"
   ]
  },
  {
   "cell_type": "markdown",
   "id": "23d5411a",
   "metadata": {
    "papermill": {
     "duration": 0.027454,
     "end_time": "2023-08-31T14:57:23.561103",
     "exception": false,
     "start_time": "2023-08-31T14:57:23.533649",
     "status": "completed"
    },
    "tags": []
   },
   "source": [
    "DecisionTreeClassifier"
   ]
  },
  {
   "cell_type": "code",
   "execution_count": 38,
   "id": "e8adeb6a",
   "metadata": {
    "execution": {
     "iopub.execute_input": "2023-08-31T14:57:23.616451Z",
     "iopub.status.busy": "2023-08-31T14:57:23.615723Z",
     "iopub.status.idle": "2023-08-31T14:57:23.654516Z",
     "shell.execute_reply": "2023-08-31T14:57:23.653362Z"
    },
    "papermill": {
     "duration": 0.069214,
     "end_time": "2023-08-31T14:57:23.657694",
     "exception": false,
     "start_time": "2023-08-31T14:57:23.588480",
     "status": "completed"
    },
    "tags": []
   },
   "outputs": [
    {
     "name": "stdout",
     "output_type": "stream",
     "text": [
      "              precision    recall  f1-score   support\n",
      "\n",
      "           0       0.80      0.93      0.86      1298\n",
      "           1       0.63      0.35      0.45       463\n",
      "\n",
      "    accuracy                           0.78      1761\n",
      "   macro avg       0.72      0.64      0.65      1761\n",
      "weighted avg       0.76      0.78      0.75      1761\n",
      "\n"
     ]
    }
   ],
   "source": [
    "dt=DecisionTreeClassifier(criterion=\"entropy\", max_depth = 4)\n",
    "model2=dt.fit(x_train,y_train)\n",
    "y_pred=model2.predict(x_test)\n",
    "print(classification_report(y_test, y_pred))"
   ]
  },
  {
   "cell_type": "code",
   "execution_count": 39,
   "id": "1c4fde58",
   "metadata": {
    "execution": {
     "iopub.execute_input": "2023-08-31T14:57:23.717462Z",
     "iopub.status.busy": "2023-08-31T14:57:23.716035Z",
     "iopub.status.idle": "2023-08-31T14:57:25.229215Z",
     "shell.execute_reply": "2023-08-31T14:57:25.227349Z"
    },
    "papermill": {
     "duration": 1.546498,
     "end_time": "2023-08-31T14:57:25.232333",
     "exception": false,
     "start_time": "2023-08-31T14:57:23.685835",
     "status": "completed"
    },
    "tags": []
   },
   "outputs": [
    {
     "data": {
      "image/png": "[encoded data removed]",
      "text/plain": [
       "<Figure size 640x480 with 1 Axes>"
      ]
     },
     "metadata": {},
     "output_type": "display_data"
    }
   ],
   "source": [
    "tree.plot_tree(model2)\n",
    "plt.show()"
   ]
  },
  {
   "cell_type": "markdown",
   "id": "c9c63e1b",
   "metadata": {
    "papermill": {
     "duration": 0.027999,
     "end_time": "2023-08-31T14:57:25.288753",
     "exception": false,
     "start_time": "2023-08-31T14:57:25.260754",
     "status": "completed"
    },
    "tags": []
   },
   "source": [
    "LogisticRegression"
   ]
  },
  {
   "cell_type": "code",
   "execution_count": 40,
   "id": "53f02803",
   "metadata": {
    "execution": {
     "iopub.execute_input": "2023-08-31T14:57:25.345326Z",
     "iopub.status.busy": "2023-08-31T14:57:25.344474Z",
     "iopub.status.idle": "2023-08-31T14:57:25.446423Z",
     "shell.execute_reply": "2023-08-31T14:57:25.444831Z"
    },
    "papermill": {
     "duration": 0.135357,
     "end_time": "2023-08-31T14:57:25.451351",
     "exception": false,
     "start_time": "2023-08-31T14:57:25.315994",
     "status": "completed"
    },
    "tags": []
   },
   "outputs": [
    {
     "name": "stdout",
     "output_type": "stream",
     "text": [
      "              precision    recall  f1-score   support\n",
      "\n",
      "           0       0.84      0.90      0.87      1298\n",
      "           1       0.65      0.52      0.57       463\n",
      "\n",
      "    accuracy                           0.80      1761\n",
      "   macro avg       0.74      0.71      0.72      1761\n",
      "weighted avg       0.79      0.80      0.79      1761\n",
      "\n"
     ]
    }
   ],
   "source": [
    "lr=LogisticRegression()\n",
    "model3=lr.fit(x_train,y_train)\n",
    "y_pred=model3.predict(x_test)\n",
    "print(classification_report(y_test, y_pred))"
   ]
  }
 ],
 "kernelspec": {
  "display_name": "Python 3",
  "language": "python",
  "name": "python3"
 },
 "language_info": {
  "codemirror_mode": {
   "name": "ipython",
   "version": 3
  },
  "file_extension": ".py",
  "mimetype": "text/x-python",
  "name": "python",
  "nbconvert_exporter": "python",
  "pygments_lexer": "ipython3",
  "version": "3.6.4"
 },
 "metadata": {
  "kernelspec": {
   "display_name": "Python 3",
   "language": "python",
   "name": "python3"
  },
  "language_info": {
   "codemirror_mode": {
    "name": "ipython",
    "version": 3
   },
   "file_extension": ".py",
   "mimetype": "text/x-python",
   "name": "python",
   "nbconvert_exporter": "python",
   "pygments_lexer": "ipython3",
   "version": "3.11.4"
  },
  "papermill": {
   "default_parameters": {},
   "duration": 32.839084,
   "end_time": "2023-08-31T14:57:27.541784",
   "environment_variables": {},
   "exception": null,
   "input_path": "__notebook__.ipynb",
   "output_path": "__notebook__.ipynb",
   "parameters": {},
   "start_time": "2023-08-31T14:56:54.702700",
   "version": "2.4.0"
  }
 },
 "nbformat": 4,
 "nbformat_minor": 5
}
